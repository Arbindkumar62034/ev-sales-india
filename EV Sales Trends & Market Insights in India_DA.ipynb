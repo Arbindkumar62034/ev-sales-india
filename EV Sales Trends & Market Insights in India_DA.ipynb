{
 "cells": [
  {
   "cell_type": "markdown",
   "id": "5c1977f0-bc0f-439d-90d2-f06fd6220550",
   "metadata": {},
   "source": [
    "### STEP-1 import important libraries for analyze the data and visualize, cleaning and processing the data"
   ]
  },
  {
   "cell_type": "code",
   "execution_count": 1,
   "id": "708830b2-21cf-46ff-b1e2-f65ad5d24c13",
   "metadata": {},
   "outputs": [],
   "source": [
    "import pandas as pd   # for data cleaning and processing the data\n",
    "import numpy as np # for linear algebra\n",
    "import matplotlib.pyplot as plt  #for visualization\n",
    "import seaborn as sns \n",
    "import warnings\n",
    "warnings.filterwarnings('ignore')  # this for is igore the warning"
   ]
  },
  {
   "cell_type": "markdown",
   "id": "f9ac2740-b677-4d1c-8835-721e74daecf5",
   "metadata": {},
   "source": [
    "#### STEP-2 load the dataset"
   ]
  },
  {
   "cell_type": "code",
   "execution_count": 2,
   "id": "f22aaac2-7ae0-497a-91bd-ad1a89bfcf0b",
   "metadata": {},
   "outputs": [],
   "source": [
    "df=pd.read_csv(\"Electric_Vehicle_Sales.csv\")"
   ]
  },
  {
   "cell_type": "code",
   "execution_count": 3,
   "id": "d5ddd0cc-2e46-4922-860f-545467ffd3a8",
   "metadata": {},
   "outputs": [
    {
     "data": {
      "text/html": [
       "<div>\n",
       "<style scoped>\n",
       "    .dataframe tbody tr th:only-of-type {\n",
       "        vertical-align: middle;\n",
       "    }\n",
       "\n",
       "    .dataframe tbody tr th {\n",
       "        vertical-align: top;\n",
       "    }\n",
       "\n",
       "    .dataframe thead th {\n",
       "        text-align: right;\n",
       "    }\n",
       "</style>\n",
       "<table border=\"1\" class=\"dataframe\">\n",
       "  <thead>\n",
       "    <tr style=\"text-align: right;\">\n",
       "      <th></th>\n",
       "      <th>Date</th>\n",
       "      <th>State</th>\n",
       "      <th>Vehicle_Class</th>\n",
       "      <th>Vehicle_Category</th>\n",
       "      <th>Vehicle_Type</th>\n",
       "      <th>EV_Sales_Quantity</th>\n",
       "      <th>Year</th>\n",
       "      <th>Month_Name</th>\n",
       "    </tr>\n",
       "  </thead>\n",
       "  <tbody>\n",
       "    <tr>\n",
       "      <th>0</th>\n",
       "      <td>01-01-2014</td>\n",
       "      <td>Andhra Pradesh</td>\n",
       "      <td>ADAPTED VEHICLE</td>\n",
       "      <td>Others</td>\n",
       "      <td>Others</td>\n",
       "      <td>0</td>\n",
       "      <td>2014</td>\n",
       "      <td>jan</td>\n",
       "    </tr>\n",
       "    <tr>\n",
       "      <th>1</th>\n",
       "      <td>01-01-2014</td>\n",
       "      <td>Andhra Pradesh</td>\n",
       "      <td>AGRICULTURAL TRACTOR</td>\n",
       "      <td>Others</td>\n",
       "      <td>Others</td>\n",
       "      <td>0</td>\n",
       "      <td>2014</td>\n",
       "      <td>jan</td>\n",
       "    </tr>\n",
       "    <tr>\n",
       "      <th>2</th>\n",
       "      <td>01-01-2014</td>\n",
       "      <td>Andhra Pradesh</td>\n",
       "      <td>AMBULANCE</td>\n",
       "      <td>Others</td>\n",
       "      <td>Others</td>\n",
       "      <td>0</td>\n",
       "      <td>2014</td>\n",
       "      <td>jan</td>\n",
       "    </tr>\n",
       "    <tr>\n",
       "      <th>3</th>\n",
       "      <td>01-01-2014</td>\n",
       "      <td>Andhra Pradesh</td>\n",
       "      <td>ARTICULATED VEHICLE</td>\n",
       "      <td>Others</td>\n",
       "      <td>Others</td>\n",
       "      <td>0</td>\n",
       "      <td>2014</td>\n",
       "      <td>jan</td>\n",
       "    </tr>\n",
       "    <tr>\n",
       "      <th>4</th>\n",
       "      <td>01-01-2014</td>\n",
       "      <td>Andhra Pradesh</td>\n",
       "      <td>BUS</td>\n",
       "      <td>Bus</td>\n",
       "      <td>Bus</td>\n",
       "      <td>0</td>\n",
       "      <td>2014</td>\n",
       "      <td>jan</td>\n",
       "    </tr>\n",
       "  </tbody>\n",
       "</table>\n",
       "</div>"
      ],
      "text/plain": [
       "         Date           State         Vehicle_Class Vehicle_Category  \\\n",
       "0  01-01-2014  Andhra Pradesh       ADAPTED VEHICLE           Others   \n",
       "1  01-01-2014  Andhra Pradesh  AGRICULTURAL TRACTOR           Others   \n",
       "2  01-01-2014  Andhra Pradesh             AMBULANCE           Others   \n",
       "3  01-01-2014  Andhra Pradesh   ARTICULATED VEHICLE           Others   \n",
       "4  01-01-2014  Andhra Pradesh                   BUS              Bus   \n",
       "\n",
       "  Vehicle_Type  EV_Sales_Quantity  Year Month_Name  \n",
       "0       Others                  0  2014        jan  \n",
       "1       Others                  0  2014        jan  \n",
       "2       Others                  0  2014        jan  \n",
       "3       Others                  0  2014        jan  \n",
       "4          Bus                  0  2014        jan  "
      ]
     },
     "execution_count": 3,
     "metadata": {},
     "output_type": "execute_result"
    }
   ],
   "source": [
    "df.head()"
   ]
  },
  {
   "cell_type": "code",
   "execution_count": 4,
   "id": "54336841-6ea8-4212-835d-b37cd8fd88f7",
   "metadata": {},
   "outputs": [
    {
     "data": {
      "text/plain": [
       "Index(['Date', 'State', 'Vehicle_Class', 'Vehicle_Category', 'Vehicle_Type',\n",
       "       'EV_Sales_Quantity', 'Year', 'Month_Name'],\n",
       "      dtype='object')"
      ]
     },
     "execution_count": 4,
     "metadata": {},
     "output_type": "execute_result"
    }
   ],
   "source": [
    "df.columns"
   ]
  },
  {
   "cell_type": "markdown",
   "id": "03f65b29-23a1-4e83-9e78-ad880d5bc0db",
   "metadata": {},
   "source": [
    "### STEP-3 clean the data and pre-processing the data\n",
    "###### -> Handling Missing Data\n",
    "###### ->Standardizing data formates\n",
    "###### -> Handling Duplicates\n",
    "###### ->  Filter unwanted outtliers"
   ]
  },
  {
   "cell_type": "code",
   "execution_count": 5,
   "id": "ae9cbac9-749d-4217-adb4-2c95dbbd952d",
   "metadata": {},
   "outputs": [
    {
     "data": {
      "text/plain": [
       "(96845, 8)"
      ]
     },
     "execution_count": 5,
     "metadata": {},
     "output_type": "execute_result"
    }
   ],
   "source": [
    "df.shape"
   ]
  },
  {
   "cell_type": "code",
   "execution_count": 6,
   "id": "a45f0464-6bff-496c-bd8b-0ef382f43e3a",
   "metadata": {},
   "outputs": [
    {
     "data": {
      "text/html": [
       "<div>\n",
       "<style scoped>\n",
       "    .dataframe tbody tr th:only-of-type {\n",
       "        vertical-align: middle;\n",
       "    }\n",
       "\n",
       "    .dataframe tbody tr th {\n",
       "        vertical-align: top;\n",
       "    }\n",
       "\n",
       "    .dataframe thead th {\n",
       "        text-align: right;\n",
       "    }\n",
       "</style>\n",
       "<table border=\"1\" class=\"dataframe\">\n",
       "  <thead>\n",
       "    <tr style=\"text-align: right;\">\n",
       "      <th></th>\n",
       "      <th>Date</th>\n",
       "      <th>State</th>\n",
       "      <th>Vehicle_Class</th>\n",
       "      <th>Vehicle_Category</th>\n",
       "      <th>Vehicle_Type</th>\n",
       "      <th>EV_Sales_Quantity</th>\n",
       "      <th>Year</th>\n",
       "      <th>Month_Name</th>\n",
       "    </tr>\n",
       "  </thead>\n",
       "  <tbody>\n",
       "    <tr>\n",
       "      <th>0</th>\n",
       "      <td>False</td>\n",
       "      <td>False</td>\n",
       "      <td>False</td>\n",
       "      <td>False</td>\n",
       "      <td>False</td>\n",
       "      <td>False</td>\n",
       "      <td>False</td>\n",
       "      <td>False</td>\n",
       "    </tr>\n",
       "    <tr>\n",
       "      <th>1</th>\n",
       "      <td>False</td>\n",
       "      <td>False</td>\n",
       "      <td>False</td>\n",
       "      <td>False</td>\n",
       "      <td>False</td>\n",
       "      <td>False</td>\n",
       "      <td>False</td>\n",
       "      <td>False</td>\n",
       "    </tr>\n",
       "    <tr>\n",
       "      <th>2</th>\n",
       "      <td>False</td>\n",
       "      <td>False</td>\n",
       "      <td>False</td>\n",
       "      <td>False</td>\n",
       "      <td>False</td>\n",
       "      <td>False</td>\n",
       "      <td>False</td>\n",
       "      <td>False</td>\n",
       "    </tr>\n",
       "    <tr>\n",
       "      <th>3</th>\n",
       "      <td>False</td>\n",
       "      <td>False</td>\n",
       "      <td>False</td>\n",
       "      <td>False</td>\n",
       "      <td>False</td>\n",
       "      <td>False</td>\n",
       "      <td>False</td>\n",
       "      <td>False</td>\n",
       "    </tr>\n",
       "    <tr>\n",
       "      <th>4</th>\n",
       "      <td>False</td>\n",
       "      <td>False</td>\n",
       "      <td>False</td>\n",
       "      <td>False</td>\n",
       "      <td>False</td>\n",
       "      <td>False</td>\n",
       "      <td>False</td>\n",
       "      <td>False</td>\n",
       "    </tr>\n",
       "    <tr>\n",
       "      <th>...</th>\n",
       "      <td>...</td>\n",
       "      <td>...</td>\n",
       "      <td>...</td>\n",
       "      <td>...</td>\n",
       "      <td>...</td>\n",
       "      <td>...</td>\n",
       "      <td>...</td>\n",
       "      <td>...</td>\n",
       "    </tr>\n",
       "    <tr>\n",
       "      <th>96840</th>\n",
       "      <td>False</td>\n",
       "      <td>False</td>\n",
       "      <td>False</td>\n",
       "      <td>False</td>\n",
       "      <td>False</td>\n",
       "      <td>False</td>\n",
       "      <td>False</td>\n",
       "      <td>False</td>\n",
       "    </tr>\n",
       "    <tr>\n",
       "      <th>96841</th>\n",
       "      <td>False</td>\n",
       "      <td>False</td>\n",
       "      <td>False</td>\n",
       "      <td>False</td>\n",
       "      <td>False</td>\n",
       "      <td>False</td>\n",
       "      <td>False</td>\n",
       "      <td>False</td>\n",
       "    </tr>\n",
       "    <tr>\n",
       "      <th>96842</th>\n",
       "      <td>False</td>\n",
       "      <td>False</td>\n",
       "      <td>False</td>\n",
       "      <td>False</td>\n",
       "      <td>False</td>\n",
       "      <td>False</td>\n",
       "      <td>False</td>\n",
       "      <td>False</td>\n",
       "    </tr>\n",
       "    <tr>\n",
       "      <th>96843</th>\n",
       "      <td>False</td>\n",
       "      <td>False</td>\n",
       "      <td>False</td>\n",
       "      <td>False</td>\n",
       "      <td>False</td>\n",
       "      <td>False</td>\n",
       "      <td>False</td>\n",
       "      <td>False</td>\n",
       "    </tr>\n",
       "    <tr>\n",
       "      <th>96844</th>\n",
       "      <td>False</td>\n",
       "      <td>False</td>\n",
       "      <td>False</td>\n",
       "      <td>False</td>\n",
       "      <td>False</td>\n",
       "      <td>False</td>\n",
       "      <td>False</td>\n",
       "      <td>False</td>\n",
       "    </tr>\n",
       "  </tbody>\n",
       "</table>\n",
       "<p>96845 rows × 8 columns</p>\n",
       "</div>"
      ],
      "text/plain": [
       "        Date  State  Vehicle_Class  Vehicle_Category  Vehicle_Type  \\\n",
       "0      False  False          False             False         False   \n",
       "1      False  False          False             False         False   \n",
       "2      False  False          False             False         False   \n",
       "3      False  False          False             False         False   \n",
       "4      False  False          False             False         False   \n",
       "...      ...    ...            ...               ...           ...   \n",
       "96840  False  False          False             False         False   \n",
       "96841  False  False          False             False         False   \n",
       "96842  False  False          False             False         False   \n",
       "96843  False  False          False             False         False   \n",
       "96844  False  False          False             False         False   \n",
       "\n",
       "       EV_Sales_Quantity   Year  Month_Name  \n",
       "0                  False  False       False  \n",
       "1                  False  False       False  \n",
       "2                  False  False       False  \n",
       "3                  False  False       False  \n",
       "4                  False  False       False  \n",
       "...                  ...    ...         ...  \n",
       "96840              False  False       False  \n",
       "96841              False  False       False  \n",
       "96842              False  False       False  \n",
       "96843              False  False       False  \n",
       "96844              False  False       False  \n",
       "\n",
       "[96845 rows x 8 columns]"
      ]
     },
     "execution_count": 6,
     "metadata": {},
     "output_type": "execute_result"
    }
   ],
   "source": [
    "df.isnull()"
   ]
  },
  {
   "cell_type": "code",
   "execution_count": 7,
   "id": "8b0c6904-a787-48eb-ad8c-5761ec9a9446",
   "metadata": {},
   "outputs": [
    {
     "data": {
      "text/plain": [
       "0"
      ]
     },
     "execution_count": 7,
     "metadata": {},
     "output_type": "execute_result"
    }
   ],
   "source": [
    "df.isnull().sum().sum()"
   ]
  },
  {
   "cell_type": "markdown",
   "id": "10726d48-3b96-49f1-95ad-50c5b2204a8e",
   "metadata": {},
   "source": [
    "\n",
    "###### -> Handling Duplicates"
   ]
  },
  {
   "cell_type": "code",
   "execution_count": 8,
   "id": "661fb8a7-2f06-4833-ab34-fbc9875421db",
   "metadata": {},
   "outputs": [
    {
     "data": {
      "text/plain": [
       "0"
      ]
     },
     "execution_count": 8,
     "metadata": {},
     "output_type": "execute_result"
    }
   ],
   "source": [
    "df.duplicated().sum()"
   ]
  },
  {
   "cell_type": "markdown",
   "id": "8e3e42cb-361d-4d38-b279-d59d63476343",
   "metadata": {},
   "source": [
    "### No duplicated values"
   ]
  },
  {
   "cell_type": "code",
   "execution_count": 9,
   "id": "f7b4533d-6965-468c-8c69-048696a55813",
   "metadata": {},
   "outputs": [
    {
     "data": {
      "text/plain": [
       "Date                 0.0\n",
       "State                0.0\n",
       "Vehicle_Class        0.0\n",
       "Vehicle_Category     0.0\n",
       "Vehicle_Type         0.0\n",
       "EV_Sales_Quantity    0.0\n",
       "Year                 0.0\n",
       "Month_Name           0.0\n",
       "dtype: float64"
      ]
     },
     "execution_count": 9,
     "metadata": {},
     "output_type": "execute_result"
    }
   ],
   "source": [
    "(df.isnull().sum()/df.shape[0])*100"
   ]
  },
  {
   "cell_type": "markdown",
   "id": "91defd4a-4bdf-4f85-bd19-ccab564e0f43",
   "metadata": {},
   "source": [
    "## Already data is clean"
   ]
  },
  {
   "cell_type": "markdown",
   "id": "9947c5cf-0026-42ab-b305-fc7556434aaa",
   "metadata": {},
   "source": [
    "###### ->Standardizing data formates"
   ]
  },
  {
   "cell_type": "code",
   "execution_count": 10,
   "id": "6a106493-ae82-428b-8bfd-15994b58866a",
   "metadata": {},
   "outputs": [
    {
     "name": "stdout",
     "output_type": "stream",
     "text": [
      "<class 'pandas.core.frame.DataFrame'>\n",
      "RangeIndex: 96845 entries, 0 to 96844\n",
      "Data columns (total 8 columns):\n",
      " #   Column             Non-Null Count  Dtype \n",
      "---  ------             --------------  ----- \n",
      " 0   Date               96845 non-null  object\n",
      " 1   State              96845 non-null  object\n",
      " 2   Vehicle_Class      96845 non-null  object\n",
      " 3   Vehicle_Category   96845 non-null  object\n",
      " 4   Vehicle_Type       96845 non-null  object\n",
      " 5   EV_Sales_Quantity  96845 non-null  int64 \n",
      " 6   Year               96845 non-null  int64 \n",
      " 7   Month_Name         96845 non-null  object\n",
      "dtypes: int64(2), object(6)\n",
      "memory usage: 5.9+ MB\n"
     ]
    }
   ],
   "source": [
    "df.info()"
   ]
  },
  {
   "cell_type": "markdown",
   "id": "c628adfc-efda-4858-b42e-4c8e93b4c518",
   "metadata": {},
   "source": [
    "### Date is object format transform the datetime format"
   ]
  },
  {
   "cell_type": "code",
   "execution_count": 11,
   "id": "6698d292-dc19-4d98-9dc9-bd29fbf8dc22",
   "metadata": {},
   "outputs": [],
   "source": [
    "df['Date']=pd.to_datetime(df['Date'])"
   ]
  },
  {
   "cell_type": "code",
   "execution_count": 12,
   "id": "a24a76c6-926e-4269-bea6-2cbd4f329475",
   "metadata": {},
   "outputs": [
    {
     "data": {
      "text/plain": [
       "0   2014-01-01\n",
       "1   2014-01-01\n",
       "2   2014-01-01\n",
       "3   2014-01-01\n",
       "4   2014-01-01\n",
       "Name: Date, dtype: datetime64[ns]"
      ]
     },
     "execution_count": 12,
     "metadata": {},
     "output_type": "execute_result"
    }
   ],
   "source": [
    "df['Date'].head()"
   ]
  },
  {
   "cell_type": "code",
   "execution_count": 13,
   "id": "f756a7f1-9dac-49eb-8377-1085fc23923f",
   "metadata": {},
   "outputs": [
    {
     "data": {
      "text/html": [
       "<div>\n",
       "<style scoped>\n",
       "    .dataframe tbody tr th:only-of-type {\n",
       "        vertical-align: middle;\n",
       "    }\n",
       "\n",
       "    .dataframe tbody tr th {\n",
       "        vertical-align: top;\n",
       "    }\n",
       "\n",
       "    .dataframe thead th {\n",
       "        text-align: right;\n",
       "    }\n",
       "</style>\n",
       "<table border=\"1\" class=\"dataframe\">\n",
       "  <thead>\n",
       "    <tr style=\"text-align: right;\">\n",
       "      <th></th>\n",
       "      <th>Date</th>\n",
       "      <th>EV_Sales_Quantity</th>\n",
       "      <th>Year</th>\n",
       "    </tr>\n",
       "  </thead>\n",
       "  <tbody>\n",
       "    <tr>\n",
       "      <th>count</th>\n",
       "      <td>96845</td>\n",
       "      <td>96845.000000</td>\n",
       "      <td>96845.000000</td>\n",
       "    </tr>\n",
       "    <tr>\n",
       "      <th>mean</th>\n",
       "      <td>2019-01-28 11:00:33.641385728</td>\n",
       "      <td>37.108896</td>\n",
       "      <td>2018.622768</td>\n",
       "    </tr>\n",
       "    <tr>\n",
       "      <th>min</th>\n",
       "      <td>2014-01-01 00:00:00</td>\n",
       "      <td>0.000000</td>\n",
       "      <td>2014.000000</td>\n",
       "    </tr>\n",
       "    <tr>\n",
       "      <th>25%</th>\n",
       "      <td>2016-08-01 00:00:00</td>\n",
       "      <td>0.000000</td>\n",
       "      <td>2016.000000</td>\n",
       "    </tr>\n",
       "    <tr>\n",
       "      <th>50%</th>\n",
       "      <td>2019-02-01 00:00:00</td>\n",
       "      <td>0.000000</td>\n",
       "      <td>2019.000000</td>\n",
       "    </tr>\n",
       "    <tr>\n",
       "      <th>75%</th>\n",
       "      <td>2021-09-01 00:00:00</td>\n",
       "      <td>0.000000</td>\n",
       "      <td>2021.000000</td>\n",
       "    </tr>\n",
       "    <tr>\n",
       "      <th>max</th>\n",
       "      <td>2024-01-01 00:00:00</td>\n",
       "      <td>20584.000000</td>\n",
       "      <td>2024.000000</td>\n",
       "    </tr>\n",
       "    <tr>\n",
       "      <th>std</th>\n",
       "      <td>NaN</td>\n",
       "      <td>431.566675</td>\n",
       "      <td>2.895581</td>\n",
       "    </tr>\n",
       "  </tbody>\n",
       "</table>\n",
       "</div>"
      ],
      "text/plain": [
       "                                Date  EV_Sales_Quantity          Year\n",
       "count                          96845       96845.000000  96845.000000\n",
       "mean   2019-01-28 11:00:33.641385728          37.108896   2018.622768\n",
       "min              2014-01-01 00:00:00           0.000000   2014.000000\n",
       "25%              2016-08-01 00:00:00           0.000000   2016.000000\n",
       "50%              2019-02-01 00:00:00           0.000000   2019.000000\n",
       "75%              2021-09-01 00:00:00           0.000000   2021.000000\n",
       "max              2024-01-01 00:00:00       20584.000000   2024.000000\n",
       "std                              NaN         431.566675      2.895581"
      ]
     },
     "execution_count": 13,
     "metadata": {},
     "output_type": "execute_result"
    }
   ],
   "source": [
    "df.describe()"
   ]
  },
  {
   "cell_type": "markdown",
   "id": "becce21e-7388-48d8-8648-9072b81779ff",
   "metadata": {},
   "source": [
    "## in this data maximum data is non zero sales hai.so we can filter the data non zero sales because \n",
    "## beter forcasting and anlysis"
   ]
  },
  {
   "cell_type": "code",
   "execution_count": 14,
   "id": "3cdf1a91-66bf-4706-835d-d49c9b5e5899",
   "metadata": {},
   "outputs": [
    {
     "data": {
      "text/plain": [
       "(14062, 8)"
      ]
     },
     "execution_count": 14,
     "metadata": {},
     "output_type": "execute_result"
    }
   ],
   "source": [
    "# Filter non-zero sales data\n",
    "df_nonzero = df[df['EV_Sales_Quantity'] > 0].copy()\n",
    "\n",
    "# Display new dataset size after filtering\n",
    "df_nonzero.shape\n"
   ]
  },
  {
   "cell_type": "code",
   "execution_count": 15,
   "id": "5a883724-f59c-4da5-97b5-40b75cd35de0",
   "metadata": {},
   "outputs": [
    {
     "data": {
      "text/html": [
       "<div>\n",
       "<style scoped>\n",
       "    .dataframe tbody tr th:only-of-type {\n",
       "        vertical-align: middle;\n",
       "    }\n",
       "\n",
       "    .dataframe tbody tr th {\n",
       "        vertical-align: top;\n",
       "    }\n",
       "\n",
       "    .dataframe thead th {\n",
       "        text-align: right;\n",
       "    }\n",
       "</style>\n",
       "<table border=\"1\" class=\"dataframe\">\n",
       "  <thead>\n",
       "    <tr style=\"text-align: right;\">\n",
       "      <th></th>\n",
       "      <th>Date</th>\n",
       "      <th>State</th>\n",
       "      <th>Vehicle_Class</th>\n",
       "      <th>Vehicle_Category</th>\n",
       "      <th>Vehicle_Type</th>\n",
       "      <th>EV_Sales_Quantity</th>\n",
       "      <th>Year</th>\n",
       "      <th>Month_Name</th>\n",
       "    </tr>\n",
       "  </thead>\n",
       "  <tbody>\n",
       "    <tr>\n",
       "      <th>13</th>\n",
       "      <td>2014-01-01</td>\n",
       "      <td>Andhra Pradesh</td>\n",
       "      <td>M-CYCLE/SCOOTER</td>\n",
       "      <td>2-Wheelers</td>\n",
       "      <td>2W_Personal</td>\n",
       "      <td>1</td>\n",
       "      <td>2014</td>\n",
       "      <td>jan</td>\n",
       "    </tr>\n",
       "    <tr>\n",
       "      <th>102</th>\n",
       "      <td>2014-01-01</td>\n",
       "      <td>Chhattisgarh</td>\n",
       "      <td>M-CYCLE/SCOOTER</td>\n",
       "      <td>2-Wheelers</td>\n",
       "      <td>2W_Personal</td>\n",
       "      <td>10</td>\n",
       "      <td>2014</td>\n",
       "      <td>jan</td>\n",
       "    </tr>\n",
       "    <tr>\n",
       "      <th>153</th>\n",
       "      <td>2014-01-01</td>\n",
       "      <td>Delhi</td>\n",
       "      <td>M-CYCLE/SCOOTER</td>\n",
       "      <td>2-Wheelers</td>\n",
       "      <td>2W_Personal</td>\n",
       "      <td>2</td>\n",
       "      <td>2014</td>\n",
       "      <td>jan</td>\n",
       "    </tr>\n",
       "    <tr>\n",
       "      <th>157</th>\n",
       "      <td>2014-01-01</td>\n",
       "      <td>Delhi</td>\n",
       "      <td>MOTOR CAR</td>\n",
       "      <td>4-Wheelers</td>\n",
       "      <td>4W_Personal</td>\n",
       "      <td>5</td>\n",
       "      <td>2014</td>\n",
       "      <td>jan</td>\n",
       "    </tr>\n",
       "    <tr>\n",
       "      <th>173</th>\n",
       "      <td>2014-01-01</td>\n",
       "      <td>Goa</td>\n",
       "      <td>MOTOR CAR</td>\n",
       "      <td>4-Wheelers</td>\n",
       "      <td>4W_Personal</td>\n",
       "      <td>1</td>\n",
       "      <td>2014</td>\n",
       "      <td>jan</td>\n",
       "    </tr>\n",
       "  </tbody>\n",
       "</table>\n",
       "</div>"
      ],
      "text/plain": [
       "          Date           State    Vehicle_Class Vehicle_Category Vehicle_Type  \\\n",
       "13  2014-01-01  Andhra Pradesh  M-CYCLE/SCOOTER       2-Wheelers  2W_Personal   \n",
       "102 2014-01-01    Chhattisgarh  M-CYCLE/SCOOTER       2-Wheelers  2W_Personal   \n",
       "153 2014-01-01           Delhi  M-CYCLE/SCOOTER       2-Wheelers  2W_Personal   \n",
       "157 2014-01-01           Delhi        MOTOR CAR       4-Wheelers  4W_Personal   \n",
       "173 2014-01-01             Goa        MOTOR CAR       4-Wheelers  4W_Personal   \n",
       "\n",
       "     EV_Sales_Quantity  Year Month_Name  \n",
       "13                   1  2014        jan  \n",
       "102                 10  2014        jan  \n",
       "153                  2  2014        jan  \n",
       "157                  5  2014        jan  \n",
       "173                  1  2014        jan  "
      ]
     },
     "execution_count": 15,
     "metadata": {},
     "output_type": "execute_result"
    }
   ],
   "source": [
    "df_nonzero.head()"
   ]
  },
  {
   "cell_type": "code",
   "execution_count": 16,
   "id": "ccbe34b1-97ef-4c2f-9907-82b7acac1b3a",
   "metadata": {},
   "outputs": [
    {
     "name": "stdout",
     "output_type": "stream",
     "text": [
      "<class 'pandas.core.frame.DataFrame'>\n",
      "Index: 14062 entries, 13 to 96841\n",
      "Data columns (total 8 columns):\n",
      " #   Column             Non-Null Count  Dtype         \n",
      "---  ------             --------------  -----         \n",
      " 0   Date               14062 non-null  datetime64[ns]\n",
      " 1   State              14062 non-null  object        \n",
      " 2   Vehicle_Class      14062 non-null  object        \n",
      " 3   Vehicle_Category   14062 non-null  object        \n",
      " 4   Vehicle_Type       14062 non-null  object        \n",
      " 5   EV_Sales_Quantity  14062 non-null  int64         \n",
      " 6   Year               14062 non-null  int64         \n",
      " 7   Month_Name         14062 non-null  object        \n",
      "dtypes: datetime64[ns](1), int64(2), object(5)\n",
      "memory usage: 988.7+ KB\n"
     ]
    }
   ],
   "source": [
    "df_nonzero.info()"
   ]
  },
  {
   "cell_type": "markdown",
   "id": "ee223edf-31a8-4c31-a50e-4093d2d61d27",
   "metadata": {},
   "source": [
    "##  Step-4 EDA & visualization and find Insight and forcasting 2025 to 2030"
   ]
  },
  {
   "cell_type": "markdown",
   "id": "d7a86da9-fa56-472b-927b-f543283ac8f5",
   "metadata": {},
   "source": [
    "# Year-wise EV Sales Growth\n",
    "# State-wise EV Sales Trends\n",
    "# Vehicle Type-wise Popularity\n",
    "# Seasonal Trends (Month-wise Sales Pattern)\n",
    "# Future Sales Forecasting"
   ]
  },
  {
   "cell_type": "markdown",
   "id": "a7aea3f5-179f-4abf-9cde-8b8373009e85",
   "metadata": {},
   "source": [
    "### Q1 Year-wise EV Sales Growth ka analysis"
   ]
  },
  {
   "cell_type": "code",
   "execution_count": 17,
   "id": "ae9a923a-da70-4a18-a5eb-2022723b11ff",
   "metadata": {},
   "outputs": [
    {
     "data": {
      "image/png": "[encoded data removed]",
      "text/plain": [
       "<Figure size 1200x600 with 1 Axes>"
      ]
     },
     "metadata": {},
     "output_type": "display_data"
    }
   ],
   "source": [
    "# Group by Year and sum EV sales\n",
    "yearly_sales = df_nonzero.groupby('Year')['EV_Sales_Quantity'].sum().reset_index()\n",
    "\n",
    "# Plot Year-wise EV sales trend\n",
    "plt.figure(figsize=(12, 6))\n",
    "sns.lineplot(data=yearly_sales, x='Year', y='EV_Sales_Quantity', marker='o', color='b')\n",
    "plt.title(\"Year-wise EV Sales Growth in India (Non-Zero Sales)\", fontsize=14)\n",
    "plt.xlabel(\"Year\")\n",
    "plt.ylabel(\"Total EV Sales\")\n",
    "plt.grid(True)\n",
    "plt.show()\n",
    "\n",
    "# Display yearly sales data\n",
    "#yearly_sales\n"
   ]
  },
  {
   "cell_type": "markdown",
   "id": "9becdcca-75cb-4553-b941-df8673414245",
   "metadata": {},
   "source": [
    "# Year-wise EV Sales Growth in India (Non-Zero Sales)\n",
    "\n",
    "###  📈 Key Insights:\n",
    "\n",
    "### Massive Growth: EV sales have grown exponentially from 2,392 (2014) to 1.5 million+ (2023).\n",
    "### Key Growth Years:\n",
    "### 2016: Sales jumped to 49,855 (5x increase from 2015).\n",
    "### 2021-2023: Huge rise in adoption, crossing 1 million in 2022 and 1.5 million in 2023.\n",
    "### 2024 (Partial Data): 1,43,182 sales recorded so far.\n",
    "### COVID Impact: 2020 sales (1,24,684) were lower than 2019, likely due to pandemic disruptions"
   ]
  },
  {
   "cell_type": "markdown",
   "id": "1f2a9b87-2a81-41b4-a24c-37e435d8dd5f",
   "metadata": {},
   "source": [
    "## Q2 State-wise EV Sales Analysis"
   ]
  },
  {
   "cell_type": "code",
   "execution_count": 18,
   "id": "9ebebe20-5a45-47bf-9a56-53825f6ef493",
   "metadata": {
    "scrolled": true
   },
   "outputs": [
    {
     "data": {
      "image/png": "[encoded data removed]",
      "text/plain": [
       "<Figure size 1400x600 with 1 Axes>"
      ]
     },
     "metadata": {},
     "output_type": "display_data"
    }
   ],
   "source": [
    "# Group by State and sum EV sales\n",
    "state_sales = df_nonzero.groupby('State')['EV_Sales_Quantity'].sum().reset_index()\n",
    "\n",
    "# Sort states by highest sales (Top 10 states)\n",
    "state_sales = state_sales.sort_values(by='EV_Sales_Quantity', ascending=False).head(10)\n",
    "\n",
    "# Plot Top 10 States with Highest EV Sales\n",
    "plt.figure(figsize=(14, 6))\n",
    "sns.barplot(data=state_sales, x='EV_Sales_Quantity', y='State', palette='viridis')\n",
    "plt.title(\"Top 10 States with Highest EV Sales in India\", fontsize=14)\n",
    "plt.xlabel(\"Total EV Sales\")\n",
    "plt.ylabel(\"State\")\n",
    "plt.grid(axis='x')\n",
    "plt.show()\n",
    "\n",
    "# Display state-wise sales data\n",
    "#state_sales\n"
   ]
  },
  {
   "cell_type": "markdown",
   "id": "865e62b1-3b80-4aa3-85f9-5bb87c0d8007",
   "metadata": {},
   "source": [
    "# Top 10 States with Highest EV Sales in India\n",
    "### Uttar Pradesh → 7,32,074 sales (🚀 Highest in India!)\n",
    "### Maharashtra → 4,01,535 sales\n",
    "### Karnataka → 3,15,498 sales\n",
    "### Delhi → 2,68,538 sales\n",
    "### Rajasthan → 2,28,573 sales\n",
    "### Bihar → 2,13,465 sales\n",
    "### Tamil Nadu → 2,06,902 sales\n",
    "### Gujarat → 1,76,713 sales\n",
    "### Assam → 1,51,917 sales\n",
    "### Kerala → 1,33,246 sales\n",
    "### 📊 Insights:\n",
    "### ✅ Uttar Pradesh is the EV leader in India, possibly due to strong government incentives.\n",
    "### ✅ Maharashtra, Karnataka & Delhi have high EV adoption, likely due to urban infrastructure.\n",
    "### ✅ North India (UP, Delhi, Rajasthan, Bihar) has strong EV presenc"
   ]
  },
  {
   "cell_type": "code",
   "execution_count": null,
   "id": "9e5a8827-cea8-4795-8901-0522292e78dd",
   "metadata": {},
   "outputs": [],
   "source": []
  },
  {
   "cell_type": "markdown",
   "id": "b2c91777-6903-4acc-9963-fbf411eccd34",
   "metadata": {},
   "source": [
    "### Q3 Vehicle Type-wise EV Sales Analysis"
   ]
  },
  {
   "cell_type": "code",
   "execution_count": 19,
   "id": "931d8fbb-9de3-4976-8a18-0a346c21c878",
   "metadata": {},
   "outputs": [
    {
     "data": {
      "image/png": "[encoded data removed]",
      "text/plain": [
       "<Figure size 1400x600 with 1 Axes>"
      ]
     },
     "metadata": {},
     "output_type": "display_data"
    }
   ],
   "source": [
    "# Group by Vehicle Type and sum EV sales\n",
    "vehicle_type_sales = df_nonzero.groupby('Vehicle_Type')['EV_Sales_Quantity'].sum().reset_index()\n",
    "\n",
    "# Sort by highest sales (Top 10 vehicle types)\n",
    "vehicle_type_sales = vehicle_type_sales.sort_values(by='EV_Sales_Quantity', ascending=False).head(10)\n",
    "\n",
    "# Plot EV Sales by Vehicle Type\n",
    "plt.figure(figsize=(14, 6))\n",
    "sns.barplot(data=vehicle_type_sales, x='EV_Sales_Quantity', y='Vehicle_Type', palette='coolwarm')\n",
    "plt.title(\"EV Sales by Vehicle Type in India\", fontsize=14)\n",
    "plt.xlabel(\"Total EV Sales\")\n",
    "plt.ylabel(\"Vehicle Type\")\n",
    "plt.grid(axis='x')\n",
    "plt.show()\n",
    "\n",
    "# Display vehicle type sales data\n",
    "#vehicle_type_sales\n"
   ]
  },
  {
   "cell_type": "markdown",
   "id": "b99a55be-ddb7-4f84-92d4-efa5bf126449",
   "metadata": {},
   "source": [
    "## EV Sales by Vehicle Type in India\n",
    "### 3W (Three-Wheeler) Shared Low Speed → 14,08,127\n",
    "### 4W (Four-Wheeler) Personal → 1,30,676\n",
    "### 3W Goods Low Speed → 90,656\n",
    "### 3W Shared (Auto-rickshaws) → 76,132\n",
    "### 3W Goods (Commercial use) → 44,974\n",
    "### 4W Shared (Taxis, Fleet cars, etc.) → 19,099\n",
    "### 2W Shared (Bike rentals, etc.) → 11,765\n",
    "### Others → 8,612\n",
    "### Buses → 7,009\n",
    "## 📊 Insights:\n",
    "### ✅ Two-wheelers dominate the market! (Electric scooters & bikes are most sold)\n",
    "### ✅ Three-wheelers (Auto-rickshaws) have strong adoption, especially in shared mobility.\n",
    "### ✅ Four-wheelers (EV cars) adoption is still slower compared to 2W and 3W.\n"
   ]
  },
  {
   "cell_type": "code",
   "execution_count": null,
   "id": "018929ea-96c4-4d55-b099-bba726cfa8c9",
   "metadata": {},
   "outputs": [],
   "source": []
  },
  {
   "cell_type": "markdown",
   "id": "152d599b-8a35-4543-b933-6d6059ce52fe",
   "metadata": {},
   "source": [
    "## Q4 Month-wise EV Sales Trend ka analysis"
   ]
  },
  {
   "cell_type": "code",
   "execution_count": 20,
   "id": "40bdfd91-4128-4817-9ddd-07ec567372db",
   "metadata": {},
   "outputs": [
    {
     "data": {
      "image/png": "[encoded data removed]",
      "text/plain": [
       "<Figure size 1200x600 with 1 Axes>"
      ]
     },
     "metadata": {},
     "output_type": "display_data"
    },
    {
     "data": {
      "text/html": [
       "<div>\n",
       "<style scoped>\n",
       "    .dataframe tbody tr th:only-of-type {\n",
       "        vertical-align: middle;\n",
       "    }\n",
       "\n",
       "    .dataframe tbody tr th {\n",
       "        vertical-align: top;\n",
       "    }\n",
       "\n",
       "    .dataframe thead th {\n",
       "        text-align: right;\n",
       "    }\n",
       "</style>\n",
       "<table border=\"1\" class=\"dataframe\">\n",
       "  <thead>\n",
       "    <tr style=\"text-align: right;\">\n",
       "      <th></th>\n",
       "      <th>Month_Name</th>\n",
       "      <th>EV_Sales_Quantity</th>\n",
       "    </tr>\n",
       "  </thead>\n",
       "  <tbody>\n",
       "    <tr>\n",
       "      <th>4</th>\n",
       "      <td>jan</td>\n",
       "      <td>360703</td>\n",
       "    </tr>\n",
       "    <tr>\n",
       "      <th>3</th>\n",
       "      <td>feb</td>\n",
       "      <td>228739</td>\n",
       "    </tr>\n",
       "    <tr>\n",
       "      <th>7</th>\n",
       "      <td>mar</td>\n",
       "      <td>299888</td>\n",
       "    </tr>\n",
       "    <tr>\n",
       "      <th>0</th>\n",
       "      <td>apr</td>\n",
       "      <td>232194</td>\n",
       "    </tr>\n",
       "    <tr>\n",
       "      <th>8</th>\n",
       "      <td>may</td>\n",
       "      <td>262747</td>\n",
       "    </tr>\n",
       "    <tr>\n",
       "      <th>6</th>\n",
       "      <td>jun</td>\n",
       "      <td>229754</td>\n",
       "    </tr>\n",
       "    <tr>\n",
       "      <th>5</th>\n",
       "      <td>jul</td>\n",
       "      <td>270473</td>\n",
       "    </tr>\n",
       "    <tr>\n",
       "      <th>1</th>\n",
       "      <td>aug</td>\n",
       "      <td>294022</td>\n",
       "    </tr>\n",
       "    <tr>\n",
       "      <th>11</th>\n",
       "      <td>sep</td>\n",
       "      <td>313433</td>\n",
       "    </tr>\n",
       "    <tr>\n",
       "      <th>10</th>\n",
       "      <td>oct</td>\n",
       "      <td>355083</td>\n",
       "    </tr>\n",
       "    <tr>\n",
       "      <th>9</th>\n",
       "      <td>nov</td>\n",
       "      <td>382217</td>\n",
       "    </tr>\n",
       "    <tr>\n",
       "      <th>2</th>\n",
       "      <td>dec</td>\n",
       "      <td>364558</td>\n",
       "    </tr>\n",
       "  </tbody>\n",
       "</table>\n",
       "</div>"
      ],
      "text/plain": [
       "   Month_Name  EV_Sales_Quantity\n",
       "4         jan             360703\n",
       "3         feb             228739\n",
       "7         mar             299888\n",
       "0         apr             232194\n",
       "8         may             262747\n",
       "6         jun             229754\n",
       "5         jul             270473\n",
       "1         aug             294022\n",
       "11        sep             313433\n",
       "10        oct             355083\n",
       "9         nov             382217\n",
       "2         dec             364558"
      ]
     },
     "execution_count": 20,
     "metadata": {},
     "output_type": "execute_result"
    }
   ],
   "source": [
    "# Group by month and sum EV sales\n",
    "monthly_sales = df_nonzero.groupby('Month_Name')['EV_Sales_Quantity'].sum().reset_index()\n",
    "\n",
    "# Define months in correct order\n",
    "month_order = ['jan', 'feb', 'mar', 'apr', 'may', 'jun', 'jul', 'aug', 'sep', 'oct', 'nov', 'dec']\n",
    "monthly_sales['Month_Name'] = pd.Categorical(monthly_sales['Month_Name'], categories=month_order, ordered=True)\n",
    "\n",
    "# Sort by month order\n",
    "monthly_sales = monthly_sales.sort_values('Month_Name')\n",
    "\n",
    "# Plot Month-wise EV Sales Trend\n",
    "plt.figure(figsize=(12, 6))\n",
    "sns.lineplot(data=monthly_sales, x='Month_Name', y='EV_Sales_Quantity', marker='o', color='g')\n",
    "plt.title(\"Month-wise EV Sales Trend in India\", fontsize=14)\n",
    "plt.xlabel(\"Month\")\n",
    "plt.ylabel(\"Total EV Sales\")\n",
    "plt.grid(True)\n",
    "plt.show()\n",
    "\n",
    "# Display month-wise sales data\n",
    "monthly_sales\n"
   ]
  },
  {
   "cell_type": "markdown",
   "id": "5ecfb5a2-684c-4a0b-8381-77be81903684",
   "metadata": {},
   "source": [
    "# Month-wise EV Sales Trend in India\n",
    "### 📅 Top Sales Months:\n",
    "\n",
    "### November → 3,82,217 sales (🚀 Highest!)\n",
    "### December → 3,64,558 sales\n",
    "### October → 3,55,083 sales\n",
    "### 📉 Lowest Sales Months:\n",
    "\n",
    "### February → 2,28,739 (Lowest)\n",
    "### April & June → ~2,30,000 sales\n",
    "### 📊 Insights:\n",
    "### ✅ Festive Season Boost: October-December has highest sales, likely due to Diwali & year-end discounts.\n",
    "### ✅ Q1 Dip: January-March has lower sales, possibly due to financial planning cycles."
   ]
  },
  {
   "cell_type": "code",
   "execution_count": null,
   "id": "8f8b643a-87d8-4891-b8b7-40bdf427d9e2",
   "metadata": {},
   "outputs": [],
   "source": []
  },
  {
   "cell_type": "markdown",
   "id": "aec69345-ea96-4d21-85b9-58ccdc4511c7",
   "metadata": {},
   "source": [
    "## Future EV Sales Forecasting 2025 to 2030"
   ]
  },
  {
   "cell_type": "code",
   "execution_count": 21,
   "id": "a4e51424-523c-4782-a98f-65e38f03198c",
   "metadata": {},
   "outputs": [],
   "source": [
    "# Import necessary libraries for forecasting\n",
    "from sklearn.model_selection import train_test_split\n",
    "from sklearn.linear_model import LinearRegression\n",
    "from sklearn.metrics import mean_squared_error, r2_score\n",
    "import numpy as np\n"
   ]
  },
  {
   "cell_type": "code",
   "execution_count": 22,
   "id": "baa927fc-fec3-427d-9f4b-998f3d1ff392",
   "metadata": {},
   "outputs": [],
   "source": [
    "# Prepare data for forecasting\n",
    "forecast_data = yearly_sales.copy()\n",
    "forecast_data['Year'] = forecast_data['Year'].astype(int)"
   ]
  },
  {
   "cell_type": "code",
   "execution_count": 23,
   "id": "89e5efe6-713a-4986-adbe-8c74917a54df",
   "metadata": {},
   "outputs": [],
   "source": [
    "# Define features (X) and target variable (y)\n",
    "X = forecast_data[['Year']]\n",
    "y = forecast_data['EV_Sales_Quantity']"
   ]
  },
  {
   "cell_type": "code",
   "execution_count": 24,
   "id": "d2c6764e-b809-4ade-831b-313c7fd21280",
   "metadata": {},
   "outputs": [],
   "source": [
    "# Split data into training and testing sets\n",
    "X_train, X_test, y_train, y_test = train_test_split(X, y, test_size=0.2, random_state=42)\n"
   ]
  },
  {
   "cell_type": "code",
   "execution_count": 25,
   "id": "f538b7fb-0e84-4230-8e88-098b8034f5af",
   "metadata": {},
   "outputs": [
    {
     "data": {
      "text/html": [
       "<style>#sk-container-id-1 {\n",
       "  /* Definition of color scheme common for light and dark mode */\n",
       "  --sklearn-color-text: black;\n",
       "  --sklearn-color-line: gray;\n",
       "  /* Definition of color scheme for unfitted estimators */\n",
       "  --sklearn-color-unfitted-level-0: #fff5e6;\n",
       "  --sklearn-color-unfitted-level-1: #f6e4d2;\n",
       "  --sklearn-color-unfitted-level-2: #ffe0b3;\n",
       "  --sklearn-color-unfitted-level-3: chocolate;\n",
       "  /* Definition of color scheme for fitted estimators */\n",
       "  --sklearn-color-fitted-level-0: #f0f8ff;\n",
       "  --sklearn-color-fitted-level-1: #d4ebff;\n",
       "  --sklearn-color-fitted-level-2: #b3dbfd;\n",
       "  --sklearn-color-fitted-level-3: cornflowerblue;\n",
       "\n",
       "  /* Specific color for light theme */\n",
       "  --sklearn-color-text-on-default-background: var(--sg-text-color, var(--theme-code-foreground, var(--jp-content-font-color1, black)));\n",
       "  --sklearn-color-background: var(--sg-background-color, var(--theme-background, var(--jp-layout-color0, white)));\n",
       "  --sklearn-color-border-box: var(--sg-text-color, var(--theme-code-foreground, var(--jp-content-font-color1, black)));\n",
       "  --sklearn-color-icon: #696969;\n",
       "\n",
       "  @media (prefers-color-scheme: dark) {\n",
       "    /* Redefinition of color scheme for dark theme */\n",
       "    --sklearn-color-text-on-default-background: var(--sg-text-color, var(--theme-code-foreground, var(--jp-content-font-color1, white)));\n",
       "    --sklearn-color-background: var(--sg-background-color, var(--theme-background, var(--jp-layout-color0, #111)));\n",
       "    --sklearn-color-border-box: var(--sg-text-color, var(--theme-code-foreground, var(--jp-content-font-color1, white)));\n",
       "    --sklearn-color-icon: #878787;\n",
       "  }\n",
       "}\n",
       "\n",
       "#sk-container-id-1 {\n",
       "  color: var(--sklearn-color-text);\n",
       "}\n",
       "\n",
       "#sk-container-id-1 pre {\n",
       "  padding: 0;\n",
       "}\n",
       "\n",
       "#sk-container-id-1 input.sk-hidden--visually {\n",
       "  border: 0;\n",
       "  clip: rect(1px 1px 1px 1px);\n",
       "  clip: rect(1px, 1px, 1px, 1px);\n",
       "  height: 1px;\n",
       "  margin: -1px;\n",
       "  overflow: hidden;\n",
       "  padding: 0;\n",
       "  position: absolute;\n",
       "  width: 1px;\n",
       "}\n",
       "\n",
       "#sk-container-id-1 div.sk-dashed-wrapped {\n",
       "  border: 1px dashed var(--sklearn-color-line);\n",
       "  margin: 0 0.4em 0.5em 0.4em;\n",
       "  box-sizing: border-box;\n",
       "  padding-bottom: 0.4em;\n",
       "  background-color: var(--sklearn-color-background);\n",
       "}\n",
       "\n",
       "#sk-container-id-1 div.sk-container {\n",
       "  /* jupyter's `normalize.less` sets `[hidden] { display: none; }`\n",
       "     but bootstrap.min.css set `[hidden] { display: none !important; }`\n",
       "     so we also need the `!important` here to be able to override the\n",
       "     default hidden behavior on the sphinx rendered scikit-learn.org.\n",
       "     See: https://github.com/scikit-learn/scikit-learn/issues/21755 */\n",
       "  display: inline-block !important;\n",
       "  position: relative;\n",
       "}\n",
       "\n",
       "#sk-container-id-1 div.sk-text-repr-fallback {\n",
       "  display: none;\n",
       "}\n",
       "\n",
       "div.sk-parallel-item,\n",
       "div.sk-serial,\n",
       "div.sk-item {\n",
       "  /* draw centered vertical line to link estimators */\n",
       "  background-image: linear-gradient(var(--sklearn-color-text-on-default-background), var(--sklearn-color-text-on-default-background));\n",
       "  background-size: 2px 100%;\n",
       "  background-repeat: no-repeat;\n",
       "  background-position: center center;\n",
       "}\n",
       "\n",
       "/* Parallel-specific style estimator block */\n",
       "\n",
       "#sk-container-id-1 div.sk-parallel-item::after {\n",
       "  content: \"\";\n",
       "  width: 100%;\n",
       "  border-bottom: 2px solid var(--sklearn-color-text-on-default-background);\n",
       "  flex-grow: 1;\n",
       "}\n",
       "\n",
       "#sk-container-id-1 div.sk-parallel {\n",
       "  display: flex;\n",
       "  align-items: stretch;\n",
       "  justify-content: center;\n",
       "  background-color: var(--sklearn-color-background);\n",
       "  position: relative;\n",
       "}\n",
       "\n",
       "#sk-container-id-1 div.sk-parallel-item {\n",
       "  display: flex;\n",
       "  flex-direction: column;\n",
       "}\n",
       "\n",
       "#sk-container-id-1 div.sk-parallel-item:first-child::after {\n",
       "  align-self: flex-end;\n",
       "  width: 50%;\n",
       "}\n",
       "\n",
       "#sk-container-id-1 div.sk-parallel-item:last-child::after {\n",
       "  align-self: flex-start;\n",
       "  width: 50%;\n",
       "}\n",
       "\n",
       "#sk-container-id-1 div.sk-parallel-item:only-child::after {\n",
       "  width: 0;\n",
       "}\n",
       "\n",
       "/* Serial-specific style estimator block */\n",
       "\n",
       "#sk-container-id-1 div.sk-serial {\n",
       "  display: flex;\n",
       "  flex-direction: column;\n",
       "  align-items: center;\n",
       "  background-color: var(--sklearn-color-background);\n",
       "  padding-right: 1em;\n",
       "  padding-left: 1em;\n",
       "}\n",
       "\n",
       "\n",
       "/* Toggleable style: style used for estimator/Pipeline/ColumnTransformer box that is\n",
       "clickable and can be expanded/collapsed.\n",
       "- Pipeline and ColumnTransformer use this feature and define the default style\n",
       "- Estimators will overwrite some part of the style using the `sk-estimator` class\n",
       "*/\n",
       "\n",
       "/* Pipeline and ColumnTransformer style (default) */\n",
       "\n",
       "#sk-container-id-1 div.sk-toggleable {\n",
       "  /* Default theme specific background. It is overwritten whether we have a\n",
       "  specific estimator or a Pipeline/ColumnTransformer */\n",
       "  background-color: var(--sklearn-color-background);\n",
       "}\n",
       "\n",
       "/* Toggleable label */\n",
       "#sk-container-id-1 label.sk-toggleable__label {\n",
       "  cursor: pointer;\n",
       "  display: block;\n",
       "  width: 100%;\n",
       "  margin-bottom: 0;\n",
       "  padding: 0.5em;\n",
       "  box-sizing: border-box;\n",
       "  text-align: center;\n",
       "}\n",
       "\n",
       "#sk-container-id-1 label.sk-toggleable__label-arrow:before {\n",
       "  /* Arrow on the left of the label */\n",
       "  content: \"▸\";\n",
       "  float: left;\n",
       "  margin-right: 0.25em;\n",
       "  color: var(--sklearn-color-icon);\n",
       "}\n",
       "\n",
       "#sk-container-id-1 label.sk-toggleable__label-arrow:hover:before {\n",
       "  color: var(--sklearn-color-text);\n",
       "}\n",
       "\n",
       "/* Toggleable content - dropdown */\n",
       "\n",
       "#sk-container-id-1 div.sk-toggleable__content {\n",
       "  max-height: 0;\n",
       "  max-width: 0;\n",
       "  overflow: hidden;\n",
       "  text-align: left;\n",
       "  /* unfitted */\n",
       "  background-color: var(--sklearn-color-unfitted-level-0);\n",
       "}\n",
       "\n",
       "#sk-container-id-1 div.sk-toggleable__content.fitted {\n",
       "  /* fitted */\n",
       "  background-color: var(--sklearn-color-fitted-level-0);\n",
       "}\n",
       "\n",
       "#sk-container-id-1 div.sk-toggleable__content pre {\n",
       "  margin: 0.2em;\n",
       "  border-radius: 0.25em;\n",
       "  color: var(--sklearn-color-text);\n",
       "  /* unfitted */\n",
       "  background-color: var(--sklearn-color-unfitted-level-0);\n",
       "}\n",
       "\n",
       "#sk-container-id-1 div.sk-toggleable__content.fitted pre {\n",
       "  /* unfitted */\n",
       "  background-color: var(--sklearn-color-fitted-level-0);\n",
       "}\n",
       "\n",
       "#sk-container-id-1 input.sk-toggleable__control:checked~div.sk-toggleable__content {\n",
       "  /* Expand drop-down */\n",
       "  max-height: 200px;\n",
       "  max-width: 100%;\n",
       "  overflow: auto;\n",
       "}\n",
       "\n",
       "#sk-container-id-1 input.sk-toggleable__control:checked~label.sk-toggleable__label-arrow:before {\n",
       "  content: \"▾\";\n",
       "}\n",
       "\n",
       "/* Pipeline/ColumnTransformer-specific style */\n",
       "\n",
       "#sk-container-id-1 div.sk-label input.sk-toggleable__control:checked~label.sk-toggleable__label {\n",
       "  color: var(--sklearn-color-text);\n",
       "  background-color: var(--sklearn-color-unfitted-level-2);\n",
       "}\n",
       "\n",
       "#sk-container-id-1 div.sk-label.fitted input.sk-toggleable__control:checked~label.sk-toggleable__label {\n",
       "  background-color: var(--sklearn-color-fitted-level-2);\n",
       "}\n",
       "\n",
       "/* Estimator-specific style */\n",
       "\n",
       "/* Colorize estimator box */\n",
       "#sk-container-id-1 div.sk-estimator input.sk-toggleable__control:checked~label.sk-toggleable__label {\n",
       "  /* unfitted */\n",
       "  background-color: var(--sklearn-color-unfitted-level-2);\n",
       "}\n",
       "\n",
       "#sk-container-id-1 div.sk-estimator.fitted input.sk-toggleable__control:checked~label.sk-toggleable__label {\n",
       "  /* fitted */\n",
       "  background-color: var(--sklearn-color-fitted-level-2);\n",
       "}\n",
       "\n",
       "#sk-container-id-1 div.sk-label label.sk-toggleable__label,\n",
       "#sk-container-id-1 div.sk-label label {\n",
       "  /* The background is the default theme color */\n",
       "  color: var(--sklearn-color-text-on-default-background);\n",
       "}\n",
       "\n",
       "/* On hover, darken the color of the background */\n",
       "#sk-container-id-1 div.sk-label:hover label.sk-toggleable__label {\n",
       "  color: var(--sklearn-color-text);\n",
       "  background-color: var(--sklearn-color-unfitted-level-2);\n",
       "}\n",
       "\n",
       "/* Label box, darken color on hover, fitted */\n",
       "#sk-container-id-1 div.sk-label.fitted:hover label.sk-toggleable__label.fitted {\n",
       "  color: var(--sklearn-color-text);\n",
       "  background-color: var(--sklearn-color-fitted-level-2);\n",
       "}\n",
       "\n",
       "/* Estimator label */\n",
       "\n",
       "#sk-container-id-1 div.sk-label label {\n",
       "  font-family: monospace;\n",
       "  font-weight: bold;\n",
       "  display: inline-block;\n",
       "  line-height: 1.2em;\n",
       "}\n",
       "\n",
       "#sk-container-id-1 div.sk-label-container {\n",
       "  text-align: center;\n",
       "}\n",
       "\n",
       "/* Estimator-specific */\n",
       "#sk-container-id-1 div.sk-estimator {\n",
       "  font-family: monospace;\n",
       "  border: 1px dotted var(--sklearn-color-border-box);\n",
       "  border-radius: 0.25em;\n",
       "  box-sizing: border-box;\n",
       "  margin-bottom: 0.5em;\n",
       "  /* unfitted */\n",
       "  background-color: var(--sklearn-color-unfitted-level-0);\n",
       "}\n",
       "\n",
       "#sk-container-id-1 div.sk-estimator.fitted {\n",
       "  /* fitted */\n",
       "  background-color: var(--sklearn-color-fitted-level-0);\n",
       "}\n",
       "\n",
       "/* on hover */\n",
       "#sk-container-id-1 div.sk-estimator:hover {\n",
       "  /* unfitted */\n",
       "  background-color: var(--sklearn-color-unfitted-level-2);\n",
       "}\n",
       "\n",
       "#sk-container-id-1 div.sk-estimator.fitted:hover {\n",
       "  /* fitted */\n",
       "  background-color: var(--sklearn-color-fitted-level-2);\n",
       "}\n",
       "\n",
       "/* Specification for estimator info (e.g. \"i\" and \"?\") */\n",
       "\n",
       "/* Common style for \"i\" and \"?\" */\n",
       "\n",
       ".sk-estimator-doc-link,\n",
       "a:link.sk-estimator-doc-link,\n",
       "a:visited.sk-estimator-doc-link {\n",
       "  float: right;\n",
       "  font-size: smaller;\n",
       "  line-height: 1em;\n",
       "  font-family: monospace;\n",
       "  background-color: var(--sklearn-color-background);\n",
       "  border-radius: 1em;\n",
       "  height: 1em;\n",
       "  width: 1em;\n",
       "  text-decoration: none !important;\n",
       "  margin-left: 1ex;\n",
       "  /* unfitted */\n",
       "  border: var(--sklearn-color-unfitted-level-1) 1pt solid;\n",
       "  color: var(--sklearn-color-unfitted-level-1);\n",
       "}\n",
       "\n",
       ".sk-estimator-doc-link.fitted,\n",
       "a:link.sk-estimator-doc-link.fitted,\n",
       "a:visited.sk-estimator-doc-link.fitted {\n",
       "  /* fitted */\n",
       "  border: var(--sklearn-color-fitted-level-1) 1pt solid;\n",
       "  color: var(--sklearn-color-fitted-level-1);\n",
       "}\n",
       "\n",
       "/* On hover */\n",
       "div.sk-estimator:hover .sk-estimator-doc-link:hover,\n",
       ".sk-estimator-doc-link:hover,\n",
       "div.sk-label-container:hover .sk-estimator-doc-link:hover,\n",
       ".sk-estimator-doc-link:hover {\n",
       "  /* unfitted */\n",
       "  background-color: var(--sklearn-color-unfitted-level-3);\n",
       "  color: var(--sklearn-color-background);\n",
       "  text-decoration: none;\n",
       "}\n",
       "\n",
       "div.sk-estimator.fitted:hover .sk-estimator-doc-link.fitted:hover,\n",
       ".sk-estimator-doc-link.fitted:hover,\n",
       "div.sk-label-container:hover .sk-estimator-doc-link.fitted:hover,\n",
       ".sk-estimator-doc-link.fitted:hover {\n",
       "  /* fitted */\n",
       "  background-color: var(--sklearn-color-fitted-level-3);\n",
       "  color: var(--sklearn-color-background);\n",
       "  text-decoration: none;\n",
       "}\n",
       "\n",
       "/* Span, style for the box shown on hovering the info icon */\n",
       ".sk-estimator-doc-link span {\n",
       "  display: none;\n",
       "  z-index: 9999;\n",
       "  position: relative;\n",
       "  font-weight: normal;\n",
       "  right: .2ex;\n",
       "  padding: .5ex;\n",
       "  margin: .5ex;\n",
       "  width: min-content;\n",
       "  min-width: 20ex;\n",
       "  max-width: 50ex;\n",
       "  color: var(--sklearn-color-text);\n",
       "  box-shadow: 2pt 2pt 4pt #999;\n",
       "  /* unfitted */\n",
       "  background: var(--sklearn-color-unfitted-level-0);\n",
       "  border: .5pt solid var(--sklearn-color-unfitted-level-3);\n",
       "}\n",
       "\n",
       ".sk-estimator-doc-link.fitted span {\n",
       "  /* fitted */\n",
       "  background: var(--sklearn-color-fitted-level-0);\n",
       "  border: var(--sklearn-color-fitted-level-3);\n",
       "}\n",
       "\n",
       ".sk-estimator-doc-link:hover span {\n",
       "  display: block;\n",
       "}\n",
       "\n",
       "/* \"?\"-specific style due to the `<a>` HTML tag */\n",
       "\n",
       "#sk-container-id-1 a.estimator_doc_link {\n",
       "  float: right;\n",
       "  font-size: 1rem;\n",
       "  line-height: 1em;\n",
       "  font-family: monospace;\n",
       "  background-color: var(--sklearn-color-background);\n",
       "  border-radius: 1rem;\n",
       "  height: 1rem;\n",
       "  width: 1rem;\n",
       "  text-decoration: none;\n",
       "  /* unfitted */\n",
       "  color: var(--sklearn-color-unfitted-level-1);\n",
       "  border: var(--sklearn-color-unfitted-level-1) 1pt solid;\n",
       "}\n",
       "\n",
       "#sk-container-id-1 a.estimator_doc_link.fitted {\n",
       "  /* fitted */\n",
       "  border: var(--sklearn-color-fitted-level-1) 1pt solid;\n",
       "  color: var(--sklearn-color-fitted-level-1);\n",
       "}\n",
       "\n",
       "/* On hover */\n",
       "#sk-container-id-1 a.estimator_doc_link:hover {\n",
       "  /* unfitted */\n",
       "  background-color: var(--sklearn-color-unfitted-level-3);\n",
       "  color: var(--sklearn-color-background);\n",
       "  text-decoration: none;\n",
       "}\n",
       "\n",
       "#sk-container-id-1 a.estimator_doc_link.fitted:hover {\n",
       "  /* fitted */\n",
       "  background-color: var(--sklearn-color-fitted-level-3);\n",
       "}\n",
       "</style><div id=\"sk-container-id-1\" class=\"sk-top-container\"><div class=\"sk-text-repr-fallback\"><pre>LinearRegression()</pre><b>In a Jupyter environment, please rerun this cell to show the HTML representation or trust the notebook. <br />On GitHub, the HTML representation is unable to render, please try loading this page with nbviewer.org.</b></div><div class=\"sk-container\" hidden><div class=\"sk-item\"><div class=\"sk-estimator fitted sk-toggleable\"><input class=\"sk-toggleable__control sk-hidden--visually\" id=\"sk-estimator-id-1\" type=\"checkbox\" checked><label for=\"sk-estimator-id-1\" class=\"sk-toggleable__label fitted sk-toggleable__label-arrow fitted\">&nbsp;&nbsp;LinearRegression<a class=\"sk-estimator-doc-link fitted\" rel=\"noreferrer\" target=\"_blank\" href=\"https://scikit-learn.org/1.5/modules/generated/sklearn.linear_model.LinearRegression.html\">?<span>Documentation for LinearRegression</span></a><span class=\"sk-estimator-doc-link fitted\">i<span>Fitted</span></span></label><div class=\"sk-toggleable__content fitted\"><pre>LinearRegression()</pre></div> </div></div></div></div>"
      ],
      "text/plain": [
       "LinearRegression()"
      ]
     },
     "execution_count": 25,
     "metadata": {},
     "output_type": "execute_result"
    }
   ],
   "source": [
    "# Train a Linear Regression model\n",
    "model = LinearRegression()\n",
    "model.fit(X_train, y_train)"
   ]
  },
  {
   "cell_type": "code",
   "execution_count": 26,
   "id": "aedc5be7-34e6-4940-a593-8d10e4ccb4b4",
   "metadata": {},
   "outputs": [],
   "source": [
    "# Predict future sales for upcoming years (2025-2030)\n",
    "future_years = np.array([[2025], [2026], [2027], [2028], [2029], [2030]])\n",
    "future_sales_predictions = model.predict(future_years)"
   ]
  },
  {
   "cell_type": "code",
   "execution_count": 27,
   "id": "5f8d5086-4508-4474-9dda-81ab257c018f",
   "metadata": {},
   "outputs": [],
   "source": [
    "# Evaluate model performance\n",
    "y_pred = model.predict(X_test)\n",
    "mse = mean_squared_error(y_test, y_pred)\n",
    "r2 = r2_score(y_test, y_pred)"
   ]
  },
  {
   "cell_type": "code",
   "execution_count": 28,
   "id": "2c082048-024a-413d-a50c-b878851fc52c",
   "metadata": {},
   "outputs": [
    {
     "data": {
      "text/plain": [
       "(array([566210.31397459, 622173.32486388, 678136.33575317, 734099.34664246,\n",
       "        790062.35753176, 846025.36842105]),\n",
       " 384514250373.802,\n",
       " 0.17428297497331935)"
      ]
     },
     "execution_count": 28,
     "metadata": {},
     "output_type": "execute_result"
    }
   ],
   "source": [
    "# Display predictions and model accuracy\n",
    "future_sales_predictions, mse, r2\n"
   ]
  },
  {
   "cell_type": "markdown",
   "id": "61e07cbb-472c-48b7-afbd-7a21bfd7bf3f",
   "metadata": {},
   "source": [
    "# Future EV Sales Forecast (2025-2030) 🚀\n",
    "### 📈 Predicted EV Sales:\n",
    "\n",
    "### 2025 → ~5,66,210\n",
    "###  2026 → ~6,22,173\n",
    "###  2027 → ~6,78,136\n",
    "###  2028 → ~7,34,099\n",
    "###  2029 → ~7,90,062\n",
    "### 2030 → ~8,46,025\n",
    "# 📊 Insights:\n",
    "### ✅ By 2030, sales could reach nearly 8.5 lakh vehicles annually.\n",
    "### Government policies & charging infrastructure could further accelerate growth.\n",
    "\n"
   ]
  },
  {
   "cell_type": "code",
   "execution_count": null,
   "id": "81a63d2f-672a-4355-a4c2-aaa0d4cd2c0a",
   "metadata": {},
   "outputs": [],
   "source": []
  }
 ],
 "metadata": {
  "kernelspec": {
   "display_name": "Python 3 (ipykernel)",
   "language": "python",
   "name": "python3"
  },
  "language_info": {
   "codemirror_mode": {
    "name": "ipython",
    "version": 3
   },
   "file_extension": ".py",
   "mimetype": "text/x-python",
   "name": "python",
   "nbconvert_exporter": "python",
   "pygments_lexer": "ipython3",
   "version": "3.12.7"
  }
 },
 "nbformat": 4,
 "nbformat_minor": 5
}
